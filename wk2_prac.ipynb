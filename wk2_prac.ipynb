{
 "cells": [
  {
   "cell_type": "code",
   "execution_count": 6,
   "metadata": {},
   "outputs": [],
   "source": [
    "Pi = 3.14159\n",
    "pi = 3.14159\n",
    "pi = 3.14159*3\n",
    "pi_2 = 3.14159**2\n",
    "pi2 = 3.14159**2\n",
    "myradius = 5\n",
    "My_Radius = 5\n",
    "class1 = 5\n"
   ]
  },
  {
   "cell_type": "code",
   "execution_count": 8,
   "metadata": {},
   "outputs": [
    {
     "name": "stdout",
     "output_type": "stream",
     "text": [
      "22\n",
      "22\n",
      "4\n",
      "16\n",
      "0.5\n",
      "<class 'str'>\n",
      "<class 'int'>\n",
      "<class 'int'>\n",
      "<class 'float'>\n"
     ]
    }
   ],
   "source": [
    "\n",
    "x = '2'\n",
    "y = z = 2\n",
    "\n",
    "print(x * y)\n",
    "print(x + x)\n",
    "print(y * z)\n",
    "print((y+z)**z)\n",
    "print(y/(y+z))\n",
    "\n",
    "print( type(x * y) )\n",
    "print( type(y * z) )\n",
    "print( type((y+z)**z) ) \n",
    "print( type(y/(y+z)) )"
   ]
  },
  {
   "cell_type": "code",
   "execution_count": 10,
   "metadata": {},
   "outputs": [
    {
     "name": "stdout",
     "output_type": "stream",
     "text": [
      "2.5\n",
      "2.25\n",
      "2.5\n"
     ]
    }
   ],
   "source": [
    "x = 1 + 2 * 3 / 4\n",
    "y = (1 + 2) * (3 / 4)\n",
    "z = 1 + 2 * (3 / 4)\n",
    "\n",
    "print(x)\n",
    "print(y)\n",
    "print(z)"
   ]
  },
  {
   "cell_type": "code",
   "execution_count": 12,
   "metadata": {},
   "outputs": [
    {
     "name": "stdout",
     "output_type": "stream",
     "text": [
      "1\n",
      "13\n",
      "False\n",
      "1000\n",
      "7\n",
      "3\n"
     ]
    }
   ],
   "source": [
    "\n",
    "x = 10\n",
    "y = 3\n",
    "\n",
    "print( x % y ) # 1\n",
    "print( x + y ) # 13\n",
    "print( x == y ) # False\n",
    "print( x ** y ) # 1000\n",
    "print( x - y ) # 7\n",
    "print( x // y ) # 3"
   ]
  },
  {
   "cell_type": "code",
   "execution_count": 21,
   "metadata": {},
   "outputs": [
    {
     "name": "stdout",
     "output_type": "stream",
     "text": [
      "904.7786842338603\n"
     ]
    }
   ],
   "source": [
    "import math\n",
    "diameter=12/2\n",
    "v=4/3*math.pi*diameter**3\n",
    "print(v)"
   ]
  },
  {
   "cell_type": "code",
   "execution_count": 22,
   "metadata": {},
   "outputs": [
    {
     "name": "stdout",
     "output_type": "stream",
     "text": [
      "15\n"
     ]
    }
   ],
   "source": [
    "v=14137\n",
    "r=round((3/4*v/math.pi)**(1/3))\n",
    "print(r)"
   ]
  },
  {
   "cell_type": "code",
   "execution_count": 25,
   "metadata": {},
   "outputs": [
    {
     "name": "stdout",
     "output_type": "stream",
     "text": [
      "Hours are less than 10\n"
     ]
    }
   ],
   "source": [
    "hours=0\n",
    "if hours >0:\n",
    "    print(\"Hours are greater than zero\")\n",
    "if hours==2 and hours< 10:\n",
    "    print(\"Hours are greater than zero\")\n",
    "if hours==0:\n",
    "    print(\"Hours are less than 10\")"
   ]
  },
  {
   "cell_type": "code",
   "execution_count": 27,
   "metadata": {},
   "outputs": [
    {
     "name": "stdout",
     "output_type": "stream",
     "text": [
      "inside 1\n",
      "inside 2\n",
      "inside\n",
      "after condition\n"
     ]
    }
   ],
   "source": [
    "a=1\n",
    "b=1\n",
    "x=a\n",
    "if x==b:\n",
    "    print(\"inside 1\")\n",
    "    print(\"inside 2\")\n",
    "    print(\"inside\")\n",
    "print(\"after condition\")"
   ]
  },
  {
   "cell_type": "code",
   "execution_count": 29,
   "metadata": {},
   "outputs": [
    {
     "name": "stdout",
     "output_type": "stream",
     "text": [
      "Joe\n",
      "Aled\n"
     ]
    }
   ],
   "source": [
    "\n",
    "x=1\n",
    "\n",
    "if x > 0 and x < 5:\n",
    "    print(\"Joe\")\n",
    "\n",
    "if x > 0 or x < 5:\n",
    "    print(\"Aled\")\n",
    "\n",
    "if not(x > 0):\n",
    "    print(\"Sarah\")"
   ]
  },
  {
   "cell_type": "code",
   "execution_count": 33,
   "metadata": {},
   "outputs": [
    {
     "name": "stdout",
     "output_type": "stream",
     "text": [
      "0\n",
      "x is even\n",
      "0\n",
      "1\n",
      "x is odd\n",
      "1\n",
      "2\n",
      "x is even\n",
      "2\n",
      "3\n",
      "x is odd\n",
      "3\n",
      "4\n",
      "x is even\n",
      "4\n",
      "5\n",
      "x is odd\n",
      "5\n",
      "6\n",
      "x is even\n",
      "6\n",
      "7\n",
      "x is odd\n",
      "7\n",
      "8\n",
      "x is even\n",
      "8\n"
     ]
    }
   ],
   "source": [
    "for x in range(0,9):\n",
    "    print(x)\n",
    "    if x%2 ==0:\n",
    "        print(\"x is even\")\n",
    "    else:\n",
    "        print(\"x is odd\")\n",
    "    print(x)"
   ]
  },
  {
   "cell_type": "code",
   "execution_count": 11,
   "metadata": {},
   "outputs": [
    {
     "name": "stdout",
     "output_type": "stream",
     "text": [
      "London\n",
      "Tokyo\n",
      "['Beijing', 'Tokyo']\n",
      "['Tokyo', 'Delhi']\n",
      "['London', 'Beijing', 'Tokyo']\n",
      "0\n"
     ]
    }
   ],
   "source": [
    "cities = ['New York', 'London', 'Beijing', 'Tokyo', 'Delhi']\n",
    "# Print out London from cities:\n",
    "print( cities[1])\n",
    "\n",
    "# Print out Tokyo using *negative* indexing:\n",
    "print( cities[-2] )\n",
    "\n",
    "# Print out Beijing and Tokyo using a list slice\n",
    "print( cities[2:4])\n",
    "\n",
    "# Print out London to Delhi using a slice\n",
    "print( cities[-2:]) # You could also do cities[1:4] but this way is neater\n",
    "\n",
    "# Combine positive and negative indexing to print out London, Beijing and Tokyo using a list slice\n",
    "print( cities[-4:4])\n",
    "\n",
    "# Print out the position of New York in the list by searching for it (i.e. you can't just type 0)\n",
    "print( cities.index('New York'))"
   ]
  },
  {
   "cell_type": "code",
   "execution_count": 4,
   "metadata": {},
   "outputs": [
    {
     "ename": "IndexError",
     "evalue": "list index out of range",
     "output_type": "error",
     "traceback": [
      "\u001b[0;31m---------------------------------------------------------------------------\u001b[0m",
      "\u001b[0;31mIndexError\u001b[0m                                Traceback (most recent call last)",
      "\u001b[0;32m<ipython-input-4-a821c1f26e99>\u001b[0m in \u001b[0;36m<module>\u001b[0;34m\u001b[0m\n\u001b[1;32m      1\u001b[0m \u001b[0;31m# Cause an 'IndexError: list index out of range' errr\u001b[0m\u001b[0;34m\u001b[0m\u001b[0;34m\u001b[0m\u001b[0;34m\u001b[0m\u001b[0m\n\u001b[0;32m----> 2\u001b[0;31m \u001b[0mprint\u001b[0m\u001b[0;34m(\u001b[0m\u001b[0mcities\u001b[0m\u001b[0;34m[\u001b[0m\u001b[0;36m9\u001b[0m\u001b[0;34m]\u001b[0m\u001b[0;34m)\u001b[0m\u001b[0;34m\u001b[0m\u001b[0;34m\u001b[0m\u001b[0m\n\u001b[0m",
      "\u001b[0;31mIndexError\u001b[0m: list index out of range"
     ]
    }
   ],
   "source": [
    "# Cause an 'IndexError: list index out of range' errr\n",
    "print(cities[9])"
   ]
  },
  {
   "cell_type": "code",
   "execution_count": 6,
   "metadata": {},
   "outputs": [
    {
     "ename": "ValueError",
     "evalue": "'Toronto' is not in list",
     "output_type": "error",
     "traceback": [
      "\u001b[0;31m---------------------------------------------------------------------------\u001b[0m",
      "\u001b[0;31mValueError\u001b[0m                                Traceback (most recent call last)",
      "\u001b[0;32m<ipython-input-6-0176ee44a8a5>\u001b[0m in \u001b[0;36m<module>\u001b[0;34m\u001b[0m\n\u001b[1;32m      1\u001b[0m \u001b[0;31m# Cause an 'IndexError: list index out of range' errr\u001b[0m\u001b[0;34m\u001b[0m\u001b[0;34m\u001b[0m\u001b[0;34m\u001b[0m\u001b[0m\n\u001b[0;32m----> 2\u001b[0;31m \u001b[0mprint\u001b[0m\u001b[0;34m(\u001b[0m\u001b[0mcities\u001b[0m\u001b[0;34m.\u001b[0m\u001b[0mindex\u001b[0m\u001b[0;34m(\u001b[0m\u001b[0;34m\"Toronto\"\u001b[0m\u001b[0;34m)\u001b[0m\u001b[0;34m)\u001b[0m\u001b[0;34m\u001b[0m\u001b[0;34m\u001b[0m\u001b[0m\n\u001b[0m",
      "\u001b[0;31mValueError\u001b[0m: 'Toronto' is not in list"
     ]
    }
   ],
   "source": [
    "# Cause an 'IndexError: list index out of range' errr\n",
    "print(cities.index(\"Toronto\"))"
   ]
  },
  {
   "cell_type": "code",
   "execution_count": 18,
   "metadata": {},
   "outputs": [
    {
     "name": "stdout",
     "output_type": "stream",
     "text": [
      "['Tokyo', 'New York', 'London', 'Delhi', 'Beijing']\n"
     ]
    }
   ],
   "source": [
    "cities.sort()\n",
    "cities.reverse()\n",
    "print(cities)"
   ]
  },
  {
   "cell_type": "code",
   "execution_count": 21,
   "metadata": {},
   "outputs": [
    {
     "name": "stdout",
     "output_type": "stream",
     "text": [
      "New York\n",
      "['Tokyo', 'New York', 'London', 'Delhi', 'Beijing']\n"
     ]
    }
   ],
   "source": [
    "for p in cities:\n",
    "    if p ==\"New York\":\n",
    "        print (p)\n",
    "print(cities)"
   ]
  },
  {
   "cell_type": "code",
   "execution_count": null,
   "metadata": {},
   "outputs": [],
   "source": []
  }
 ],
 "metadata": {
  "kernelspec": {
   "display_name": "Python 3",
   "language": "python",
   "name": "python3"
  },
  "language_info": {
   "codemirror_mode": {
    "name": "ipython",
    "version": 3
   },
   "file_extension": ".py",
   "mimetype": "text/x-python",
   "name": "python",
   "nbconvert_exporter": "python",
   "pygments_lexer": "ipython3",
   "version": "3.7.8"
  }
 },
 "nbformat": 4,
 "nbformat_minor": 4
}
